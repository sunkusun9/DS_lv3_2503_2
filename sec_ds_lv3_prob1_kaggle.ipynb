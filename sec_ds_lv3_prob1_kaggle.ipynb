{
 "cells": [
  {
   "cell_type": "markdown",
   "id": "765c0422",
   "metadata": {},
   "source": [
    "# 문제 6\n",
    "\n",
    "[Kaggle 형] train_prob.csv로 failure 예측하는 모델을 만들고, \n",
    "\n",
    "test_prob.csv에 대한 failure가 1일 확률 예측하여 다음과 같은 형식의 answer6.csv를 만들어라. \n",
    "\n",
    "측정 지표는 AUC(area under of ROC curve)이다. id 는 테스트 케이스의 id 이고, failure에는 failure가 1이 될 확률이다.\n",
    "\n",
    "id,failure\n",
    "\n",
    "16115, 0.1\n",
    "\n",
    "16116, 0.2\n",
    "\n",
    "\n",
    "**강사: 멀티캠퍼스 강선구(sunku0316.kang@multicampus.com, sun9sun9@gmail.com)**"
   ]
  },
  {
   "cell_type": "code",
   "execution_count": 1,
   "id": "42ff1fa9",
   "metadata": {},
   "outputs": [
    {
     "name": "stdout",
     "output_type": "stream",
     "text": [
      "3.7.4 (tags/v3.7.4:e09359112e, Jul  8 2019, 20:34:20) [MSC v.1916 64 bit (AMD64)]\n",
      "pandas 0.25.1\n",
      "numpy 1.18.5\n",
      "sklearn 0.21.3\n",
      "scipy 1.5.2\n",
      "mlxtend 0.15.0.0\n",
      "statsmodels 0.11.1\n",
      "xgboost 0.80\n"
     ]
    }
   ],
   "source": [
    "# 실행 환경 확인\n",
    "\n",
    "import pandas as pd\n",
    "import numpy as np\n",
    "import sklearn\n",
    "import scipy\n",
    "import statsmodels\n",
    "import mlxtend\n",
    "import sys\n",
    "import xgboost as xgb\n",
    "\n",
    "print(sys.version)\n",
    "for i in [pd, np, sklearn, scipy, mlxtend, statsmodels, xgb]:\n",
    "    print(i.__name__, i.__version__)"
   ]
  },
  {
   "cell_type": "code",
   "execution_count": 2,
   "id": "3a2ce355",
   "metadata": {},
   "outputs": [],
   "source": [
    "df_train = pd.read_csv('train_prob.csv', index_col = 'id')\n",
    "df_test = pd.read_csv('test_prob.csv', index_col = 'id')"
   ]
  },
  {
   "cell_type": "code",
   "execution_count": 3,
   "id": "ac716906",
   "metadata": {},
   "outputs": [],
   "source": [
    "df_train = df_train.assign(\n",
    "    na_1 = lambda x: x['measurement_3'].isna(),\n",
    "    na_2 = lambda x: x['measurement_5'].isna()\n",
    ")\n",
    "df_test = df_test.assign(\n",
    "    na_1 = lambda x: x['measurement_3'].isna(),\n",
    "    na_2 = lambda x: x['measurement_5'].isna()\n",
    ")"
   ]
  },
  {
   "cell_type": "code",
   "execution_count": 5,
   "id": "3f9db267",
   "metadata": {},
   "outputs": [
    {
     "data": {
      "text/plain": [
       "C    5765\n",
       "E    5343\n",
       "B    5250\n",
       "A    5100\n",
       "Name: product_code, dtype: int64"
      ]
     },
     "execution_count": 5,
     "metadata": {},
     "output_type": "execute_result"
    }
   ],
   "source": [
    "df_train['product_code'].value_counts()"
   ]
  },
  {
   "cell_type": "code",
   "execution_count": 4,
   "id": "9bfaad4c",
   "metadata": {},
   "outputs": [
    {
     "data": {
      "text/plain": [
       "D    5112\n",
       "Name: product_code, dtype: int64"
      ]
     },
     "execution_count": 4,
     "metadata": {},
     "output_type": "execute_result"
    }
   ],
   "source": [
    "df_test['product_code'].value_counts()"
   ]
  },
  {
   "cell_type": "code",
   "execution_count": 6,
   "id": "8aa2e3bd",
   "metadata": {},
   "outputs": [],
   "source": [
    "from sklearn.experimental import enable_iterative_imputer\n",
    "from sklearn.impute import IterativeImputer # , random_state=123\n",
    "from sklearn.linear_model import LinearRegression\n",
    "\n",
    "imp = IterativeImputer(\n",
    "    estimator = LinearRegression(fit_intercept=True),\n",
    "    random_state=123\n",
    ")\n",
    "X_imp = ['measurement_{}'.format(i) for i in range(3, 10)] + ['measurement_17']\n",
    "df_train[X_imp] = df_train.groupby('product_code')[X_imp].apply(\n",
    "    lambda x: pd.DataFrame(imp.fit_transform(x), index = x.index, columns = X_imp)\n",
    ")\n",
    "df_test[X_imp] = df_test.groupby('product_code')[X_imp].apply(\n",
    "    lambda x: pd.DataFrame(imp.fit_transform(x), index = x.index, columns = X_imp)\n",
    ")"
   ]
  },
  {
   "cell_type": "code",
   "execution_count": 16,
   "id": "42a02fad",
   "metadata": {},
   "outputs": [],
   "source": [
    "X_mean = ['measurement_{}'.format(i) for i in range(10, 17)]\n",
    "df_train[X_mean] = df_train.groupby('product_code')[X_mean].transform(\n",
    "    lambda x: x.fillna(x.mean())\n",
    ")\n",
    "df_test[X_mean] = df_test.groupby('product_code')[X_mean].transform(\n",
    "    lambda x: x.fillna(x.mean())\n",
    ")"
   ]
  },
  {
   "cell_type": "code",
   "execution_count": 8,
   "id": "eeae68e9",
   "metadata": {},
   "outputs": [],
   "source": [
    "df_train['loading'] = df_train['loading'].fillna(df_train['loading'].mean())\n",
    "df_test['loading'] = df_test['loading'].fillna(df_train['loading'].mean())"
   ]
  },
  {
   "cell_type": "code",
   "execution_count": 9,
   "id": "cf378cbb",
   "metadata": {},
   "outputs": [],
   "source": [
    "df_train['loading_log'] = np.log(df_train['loading'])\n",
    "df_test['loading_log'] = np.log(df_test['loading'])"
   ]
  },
  {
   "cell_type": "markdown",
   "id": "95f75c3e",
   "metadata": {},
   "source": [
    "- LR, STD \\['loading', 'measurement_1', 'measurement_4', 'measurement_14', 'measurement_17'\\] 'na_1', 0.5917537024093409\n",
    "\n",
    "- LDA, transform, predict\n",
    "\n",
    "- LR + STD - PCA \\['measurement_0 ~ _17'\\] -> n_components = 7 # 0.581757510516433\n",
    "\n",
    "- RF + {'max_depth': 7, 'min_samples_split': 512, 'n_estimators': 15} # 0.5745226991354744"
   ]
  },
  {
   "cell_type": "code",
   "execution_count": 17,
   "id": "e395bac8",
   "metadata": {},
   "outputs": [
    {
     "data": {
      "text/plain": [
       "(0, 0)"
      ]
     },
     "execution_count": 17,
     "metadata": {},
     "output_type": "execute_result"
    }
   ],
   "source": [
    "X_all = df_test.columns.tolist()\n",
    "df_train[X_all].isna().sum().sum(), df_test[X_all].isna().sum().sum()"
   ]
  },
  {
   "cell_type": "markdown",
   "id": "93b514fe",
   "metadata": {},
   "source": [
    "# Kaggle형 풀이 단계\n",
    "\n",
    "Step 0: Kaggle용 데이터셋을 만든다.\n",
    "\n",
    "Step 1: 검증 방법을 정하고, 검증 루틴을 만듭니다.\n",
    "\n",
    "Step 2: Baseline 모델을 만듭니다\n",
    "\n",
    "Step 3: 모델 선택 루틴을 만듭니다.\n",
    "\n",
    "|id|failure|\n",
    "|----|----|\n",
    "|16115| 0.1|\n",
    "|16116| 0.2|\n",
    "\n",
    "....\t\n",
    "\n",
    "Step 4: 모델 개선 작업을 합니다."
   ]
  },
  {
   "cell_type": "code",
   "execution_count": null,
   "id": "5772978d",
   "metadata": {},
   "outputs": [],
   "source": [
    "# train / test 에서의 product_code가 등장하는 양상에 맞춰 검증 루틴을 구성해봅니다. (Step 1)\n",
    "\n",
    "from sklearn.model_selection import cross_validate\n",
    "from sklearn.preprocessing import StandardScaler\n",
    "from sklearn.compose import ColumnTransformer\n",
    "from sklearn.pipeline import make_pipeline \n",
    "from sklearn.model_selection import GroupKFold\n",
    "from sklearn.metrics import roc_auc_score\n",
    "\n",
    "gkf = GroupKFold(4)\n",
    "s_hist = list()\n",
    "\n",
    "def eval_model(model_name, model):\n",
    "    \"\"\"\n",
    "        모델의 인스턴스를 받아 검증 결과(AUC) 를 구합니다.\n",
    "        1. GroupKFold 검증 - df_train, groups - product_code\n",
    "        2. df_train 대한 교차검증결과에 대한 AUC를 구합니다.\n",
    "        3. 주어진 모델명으로 평가 결과를 저장합니다. Format: Valid: {:.5f}±{:.5f}, Train: {:.5f}±{:.5f}\n",
    "        4. 가장 최근의 수행결과를 보여 주어 선택하는데 활용하도록 합니다.\n",
    "    Parameters:\n",
    "        model_name: str, 모델의 이름,\n",
    "        model: sklearn object, 모델 인스턴스\n",
    "    \"\"\"\n",
    "    # TODO\n",
    "    return result\n",
    "\n",
    "# 모델 선택 루틴입니다. (Step 3)\n",
    "def select_model(model):\n",
    "    \"\"\"\n",
    "        1. 전체 학습데이터(df_train)로 학습을 합니다. \n",
    "        2. df_test에 대한 예측을 합니다.\n",
    "        3. 예측 결과를 출력양식(id, failure)에 맞춰 csv파일을 만듭니다.\n",
    "        4. 자가 채점을 위한 예측 결과를 반환합니다.\n",
    "    Parameters: \n",
    "        model: sklearn object, 모델 인스턴스\n",
    "    Returns: 1차원 np.ndarray\n",
    "        예측 결과\n",
    "    \"\"\"\n",
    "    # TODO\n",
    "    return prd"
   ]
  },
  {
   "cell_type": "code",
   "execution_count": 25,
   "id": "c14da19d",
   "metadata": {},
   "outputs": [
    {
     "name": "stdout",
     "output_type": "stream",
     "text": [
      "['A' 'B' 'E'] ['C']\n",
      "['A' 'B' 'C'] ['E']\n",
      "['A' 'C' 'E'] ['B']\n",
      "['B' 'C' 'E'] ['A']\n"
     ]
    }
   ],
   "source": [
    "from sklearn.model_selection import GroupKFold\n",
    "gkf = GroupKFold(4)\n",
    "for train_idx, valid_idx in gkf.split(df_train[X_all], df_train['failure'], groups = df_train['product_code']):\n",
    "    df_cv_train, df_valid = df_train.iloc[train_idx], df_train.iloc[valid_idx]\n",
    "    print(\n",
    "        df_cv_train['product_code'].unique(), df_valid['product_code'].unique()\n",
    "    )"
   ]
  },
  {
   "cell_type": "markdown",
   "id": "1db0a39b",
   "metadata": {},
   "source": [
    "- LR, STD \\['loading', 'measurement_1', 'measurement_4', 'measurement_14', 'measurement_17'\\] 'na_1'"
   ]
  },
  {
   "cell_type": "code",
   "execution_count": 30,
   "id": "82fe4c07",
   "metadata": {},
   "outputs": [
    {
     "data": {
      "text/plain": [
       "{'fit_time': array([0.03463459, 0.03122592, 0.04008245, 0.0299015 ]),\n",
       " 'score_time': array([0.00396538, 0.00530648, 0.        , 0.00974774]),\n",
       " 'test_score': array([0.58822089, 0.58492694, 0.58894173, 0.59538985]),\n",
       " 'train_score': array([0.59262299, 0.59350682, 0.59192443, 0.58956962])}"
      ]
     },
     "execution_count": 30,
     "metadata": {},
     "output_type": "execute_result"
    }
   ],
   "source": [
    "from sklearn.compose import ColumnTransformer\n",
    "from sklearn.preprocessing import StandardScaler\n",
    "from sklearn.pipeline import make_pipeline\n",
    "from sklearn.linear_model import LogisticRegression\n",
    "from sklearn.model_selection import cross_validate\n",
    "\n",
    "ct = ColumnTransformer([\n",
    "    ('std', StandardScaler(),  ['loading', 'measurement_1', 'measurement_4', 'measurement_14', 'measurement_17']),\n",
    "    ('pt', 'passthrough', ['na_1'])\n",
    "])\n",
    "clf_lr = make_pipeline(\n",
    "    ct, LogisticRegression(solver = 'lbfgs')\n",
    ")\n",
    "cross_validate(\n",
    "    clf_lr, df_train[X_all], df_train['failure'], groups = df_train['product_code'], scoring = 'roc_auc', \n",
    "    cv = gkf, return_train_score = True\n",
    ")"
   ]
  }
 ],
 "metadata": {
  "kernelspec": {
   "display_name": "Python 3 (ipykernel)",
   "language": "python",
   "name": "python3"
  },
  "language_info": {
   "codemirror_mode": {
    "name": "ipython",
    "version": 3
   },
   "file_extension": ".py",
   "mimetype": "text/x-python",
   "name": "python",
   "nbconvert_exporter": "python",
   "pygments_lexer": "ipython3",
   "version": "3.7.4"
  }
 },
 "nbformat": 4,
 "nbformat_minor": 5
}
